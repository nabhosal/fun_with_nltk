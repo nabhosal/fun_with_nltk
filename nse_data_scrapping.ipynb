{
 "cells": [
  {
   "cell_type": "code",
   "execution_count": 41,
   "metadata": {
    "collapsed": false
   },
   "outputs": [
    {
     "name": "stdout",
     "output_type": "stream",
     "text": [
      "One stuff... Sun Jan  8 01:28:07 2017\n",
      "One stuff... Sun Jan  8 01:28:10 2017\n",
      "One stuff... Sun Jan  8 01:28:13 2017\n",
      "One stuff... Sun Jan  8 01:28:16 2017\n",
      "One stuff... Sun Jan  8 01:28:19 2017\n",
      "One stuff... Sun Jan  8 01:28:22 2017\n",
      "One stuff... Sun Jan  8 01:28:25 2017\n",
      "One stuff... Sun Jan  8 01:28:28 2017\n",
      "One stuff... Sun Jan  8 01:28:31 2017\n",
      "One stuff... Sun Jan  8 01:28:34 2017\n",
      "Two stuff... Sun Jan  8 01:28:34 2017\n",
      "Two stuff... Sun Jan  8 01:28:37 2017\n",
      "Two stuff... Sun Jan  8 01:28:40 2017\n",
      "Two stuff... Sun Jan  8 01:28:43 2017\n",
      "Two stuff... Sun Jan  8 01:28:46 2017\n",
      "Two stuff... Sun Jan  8 01:28:49 2017\n",
      "Two stuff... Sun Jan  8 01:28:52 2017\n",
      "Two stuff... Sun Jan  8 01:28:55 2017\n",
      "Two stuff... Sun Jan  8 01:28:58 2017\n",
      "Two stuff... Sun Jan  8 01:29:01 2017\n"
     ]
    }
   ],
   "source": [
    "import sched, time\n",
    "s = sched.scheduler(time.time, time.sleep)\n",
    "s1 = sched.scheduler(time.time, time.sleep)\n",
    "iter = 10\n",
    "def do_something(sc, iter): \n",
    "    print(\"One stuff... {}\".format(time.ctime()))\n",
    "    # do your stuff\n",
    "    if iter - 1 != 0:\n",
    "        s.enter(3, 1, do_something, (sc, iter - 1,))\n",
    "\n",
    "\n",
    "def do_something1(sc, iter): \n",
    "    print(\"Two stuff... {}\".format(time.ctime()))\n",
    "    # do your stuff\n",
    "    if iter - 1 != 0:\n",
    "        s1.enter(3, 1, do_something1, (sc, iter - 1,))\n",
    "\n",
    "s.enter(3, 1, do_something, (s, iter,))\n",
    "s1.enter(3, 1, do_something1, (s1, iter,))\n",
    "s.run()\n",
    "s1.run()"
   ]
  },
  {
   "cell_type": "code",
   "execution_count": 25,
   "metadata": {
    "collapsed": false
   },
   "outputs": [
    {
     "name": "stdout",
     "output_type": "stream",
     "text": [
      "True\n",
      "25\n"
     ]
    }
   ],
   "source": [
    "import requests\n",
    "import simplejson\n",
    "\n",
    "url = \"https://nseindia.com/live_market/dynaContent/live_analysis/volume_spurts/volume_spurts.json\"\n",
    "\n",
    "response = requests.get(url)\n",
    "\n",
    "print(response.ok)\n",
    "print(len(response.json()['data']))"
   ]
  },
  {
   "cell_type": "code",
   "execution_count": 36,
   "metadata": {
    "collapsed": true
   },
   "outputs": [],
   "source": [
    "import sqlite3\n",
    "db = sqlite3.connect('demo.db')\n",
    "c = db.cursor()"
   ]
  },
  {
   "cell_type": "code",
   "execution_count": 37,
   "metadata": {
    "collapsed": false
   },
   "outputs": [],
   "source": [
    "fd = open('dbscheme.sql', 'r')"
   ]
  },
  {
   "cell_type": "code",
   "execution_count": 38,
   "metadata": {
    "collapsed": false
   },
   "outputs": [],
   "source": [
    "script = fd.read()\n",
    "c.executescript(script)\n",
    "fd.close()"
   ]
  },
  {
   "cell_type": "code",
   "execution_count": 40,
   "metadata": {
    "collapsed": false
   },
   "outputs": [
    {
     "name": "stdout",
     "output_type": "stream",
     "text": [
      "(\"Dirk Gently's Holistic Detective Agency\", 'Douglas Adams', 1987)\n"
     ]
    }
   ],
   "source": [
    "c.execute('''SELECT * FROM book''')\n",
    "row = c.fetchone()\n",
    "print(row)"
   ]
  },
  {
   "cell_type": "code",
   "execution_count": 42,
   "metadata": {
    "collapsed": true
   },
   "outputs": [],
   "source": [
    "db.close()"
   ]
  },
  {
   "cell_type": "code",
   "execution_count": 46,
   "metadata": {
    "collapsed": false
   },
   "outputs": [
    {
     "name": "stdout",
     "output_type": "stream",
     "text": [
      "Starting : daemon, 13265\n",
      "Starting : non-daemon, 13266\n",
      "Exiting : non-daemon, 13266\n",
      "Exiting : daemon, 13265\n"
     ]
    }
   ],
   "source": [
    "import multiprocessing\n",
    "import time\n",
    "import sys\n",
    "\n",
    "def daemon():\n",
    "    p = multiprocessing.current_process()\n",
    "    print(\"Starting : {}, {}\".format(p.name, p.pid))\n",
    "    sys.stdout.flush()\n",
    "    time.sleep(2)\n",
    "    print(\"Exiting : {}, {}\".format(p.name, p.pid))\n",
    "    sys.stdout.flush()\n",
    "\n",
    "def non_daemon():\n",
    "    p = multiprocessing.current_process()\n",
    "    print(\"Starting : {}, {}\".format(p.name, p.pid))\n",
    "    sys.stdout.flush()\n",
    "    print(\"Exiting : {}, {}\".format(p.name, p.pid))\n",
    "    sys.stdout.flush()\n",
    "\n",
    "if __name__ == '__main__':\n",
    "    d = multiprocessing.Process(name='daemon', target=daemon)\n",
    "    d.daemon = True\n",
    "\n",
    "    n = multiprocessing.Process(name='non-daemon', target=non_daemon)\n",
    "    n.daemon = False\n",
    "\n",
    "    d.start()\n",
    "    time.sleep(1)\n",
    "    n.start()\n",
    "    d.is_alive()"
   ]
  },
  {
   "cell_type": "code",
   "execution_count": null,
   "metadata": {
    "collapsed": true
   },
   "outputs": [],
   "source": []
  }
 ],
 "metadata": {
  "kernelspec": {
   "display_name": "Python 3",
   "language": "python",
   "name": "python3"
  },
  "language_info": {
   "codemirror_mode": {
    "name": "ipython",
    "version": 3
   },
   "file_extension": ".py",
   "mimetype": "text/x-python",
   "name": "python",
   "nbconvert_exporter": "python",
   "pygments_lexer": "ipython3",
   "version": "3.6.0"
  }
 },
 "nbformat": 4,
 "nbformat_minor": 2
}
