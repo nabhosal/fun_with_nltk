{
 "cells": [
  {
   "cell_type": "code",
   "execution_count": null,
   "metadata": {
    "collapsed": false,
    "scrolled": true
   },
   "outputs": [],
   "source": [
    "import random, sys, time\n",
    "from multiprocessing import Lock, Process, Queue\n",
    " \n",
    "P = 4                       # the number of processes we want to launch\n",
    "J = 20                      # the number of jobs we want to process\n",
    " \n",
    "# slave function\n",
    "def slave(procID, jobs, dispLock):\n",
    " try:\n",
    "     while True:\n",
    "         jobData = jobs.get_nowait()\n",
    "         dispLock.acquire()\n",
    "         sys.stdout.write('slave process %d ' % procID)\n",
    "         sys.stdout.write('working in job %d\\n' % jobData['jobID'])\n",
    "         sys.stdout.flush()\n",
    "         dispLock.release()\n",
    "\n",
    "         # do real work here instead!\n",
    "         time.sleep(random.random())\n",
    " except:\n",
    "     pass                # an exception is raised when job queue is empty\n",
    "\n",
    "# master process entry logic\n",
    "if __name__ == '__main__':\n",
    " pool = []               # instantiate pool of processes\n",
    " jobs = Queue()          # instantiate job queue\n",
    " dispLock = Lock()       # instantaite display lock (see previous example)\n",
    "\n",
    " # instantiate N slave processes\n",
    " for procID in range(P):\n",
    "     pool.append(Process(target=slave, args=(procID, jobs, dispLock)))\n",
    "\n",
    " # populate the job queue\n",
    " for jobID in range(J):\n",
    "     jobs.put({'jobID': jobID})\n",
    "\n",
    " # start the slaves\n",
    " for slave in pool:\n",
    "     slave.start()\n",
    "\n",
    " # wait for the slaves to finish processing\n",
    " for slave in pool:\n",
    "     slave.join()"
   ]
  },
  {
   "cell_type": "code",
   "execution_count": null,
   "metadata": {
    "collapsed": false
   },
   "outputs": [],
   "source": [
    "import sched, time\n",
    "s = sched.scheduler(time.time, time.sleep)\n",
    "def do_something(sc): \n",
    "    print(\"Doing stuff...\")\n",
    "    # do your stuff\n",
    "    s.enter(10, 1, do_something, (sc,))\n",
    "\n",
    "s.enter(10, 1, do_something, (s,))\n",
    "s.run()"
   ]
  },
  {
   "cell_type": "markdown",
   "metadata": {
    "collapsed": true
   },
   "source": [
    "https://nseindia.com/live_market/dynaContent/live_watch/get_quote/GetQuote.jsp?symbol=ADANIPORTS-EQ\n",
    "https://nseindia.com/live_market/dynaContent/live_analysis/gainers/niftyGainers1.json\n",
    "https://nseindia.com/live_market/dynaContent/live_analysis/losers/niftyLosers1.json\n",
    "https://nseindia.com/live_market/dynaContent/live_analysis/volume_spurts/volume_spurts.json\n",
    "http://www.nseindia.com/live_market/dynaContent/live_watch/get_quote/ajaxGetQuoteJSON.jsp?symbol=INFY"
   ]
  },
  {
   "cell_type": "code",
   "execution_count": null,
   "metadata": {
    "collapsed": true
   },
   "outputs": [],
   "source": []
  }
 ],
 "metadata": {
  "kernelspec": {
   "display_name": "Python 3",
   "language": "python",
   "name": "python3"
  },
  "language_info": {
   "codemirror_mode": {
    "name": "ipython",
    "version": 3
   },
   "file_extension": ".py",
   "mimetype": "text/x-python",
   "name": "python",
   "nbconvert_exporter": "python",
   "pygments_lexer": "ipython3",
   "version": "3.6.0"
  }
 },
 "nbformat": 4,
 "nbformat_minor": 2
}
